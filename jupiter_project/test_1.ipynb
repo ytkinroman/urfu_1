{
 "cells": [
  {
   "cell_type": "code",
   "execution_count": 2,
   "id": "1cbfca05-0dcd-4127-b79a-4579959d6029",
   "metadata": {},
   "outputs": [
    {
     "name": "stdout",
     "output_type": "stream",
     "text": [
      "Hello, world !\n"
     ]
    }
   ],
   "source": [
    "print(\"Hello, world !\")"
   ]
  },
  {
   "cell_type": "code",
   "execution_count": null,
   "id": "63df57f8-8414-4b23-8d25-93fcf42e8e29",
   "metadata": {},
   "outputs": [],
   "source": []
  }
 ],
 "metadata": {
  "kernelspec": {
   "display_name": "Python 3 (ipykernel)",
   "language": "python",
   "name": "python3"
  },
  "language_info": {
   "codemirror_mode": {
    "name": "ipython",
    "version": 3
   },
   "file_extension": ".py",
   "mimetype": "text/x-python",
   "name": "python",
   "nbconvert_exporter": "python",
   "pygments_lexer": "ipython3",
   "version": "3.12.5"
  }
 },
 "nbformat": 4,
 "nbformat_minor": 5
}
